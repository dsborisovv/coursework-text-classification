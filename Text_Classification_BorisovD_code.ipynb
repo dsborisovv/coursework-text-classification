{
 "cells": [
  {
   "cell_type": "code",
   "execution_count": 50,
   "id": "ecd0ff0c",
   "metadata": {
    "ExecuteTime": {
     "end_time": "2022-12-15T20:46:17.813579Z",
     "start_time": "2022-12-15T20:46:17.772009Z"
    }
   },
   "outputs": [
    {
     "data": {
      "text/plain": [
       "device(type='cpu')"
      ]
     },
     "execution_count": 50,
     "metadata": {},
     "output_type": "execute_result"
    }
   ],
   "source": [
    "import numpy as np\n",
    "import pandas as pd\n",
    "import transformers\n",
    "from transformers import BertModel, BertTokenizer, AdamW, get_linear_schedule_with_warmup, DistilBertTokenizer, DistilBertModel\n",
    "import torch\n",
    "from sklearn.linear_model import LogisticRegression\n",
    "from sklearn.naive_bayes import MultinomialNB\n",
    "from sklearn.svm import SVC\n",
    "from sklearn.feature_extraction.text import TfidfVectorizer\n",
    "from transformers import DistilBertForSequenceClassification\n",
    "from sklearn.model_selection import train_test_split, cross_val_score, StratifiedKFold, GridSearchCV\n",
    "from sklearn.metrics import confusion_matrix, classification_report\n",
    "from collections import defaultdict\n",
    "from textwrap import wrap\n",
    "from collections import Counter\n",
    "from wordcloud import WordCloud\n",
    "\n",
    "from torch import nn, optim\n",
    "from torch.utils.data import Dataset, DataLoader\n",
    "import torch.nn.functional as F\n",
    "import warnings\n",
    "warnings.filterwarnings('ignore')\n",
    "warnings.simplefilter('ignore')\n",
    "\n",
    "import matplotlib.pyplot as plt\n",
    "import seaborn as sns\n",
    "\n",
    "RANDOM_SEED = 42\n",
    "np.random.seed(RANDOM_SEED)\n",
    "torch.manual_seed(RANDOM_SEED)\n",
    "\n",
    "device = torch.device(\"cuda:0\" if torch.cuda.is_available() else \"cpu\")\n",
    "device"
   ]
  },
  {
   "cell_type": "markdown",
   "id": "682206c9",
   "metadata": {},
   "source": [
    "# EDA"
   ]
  },
  {
   "cell_type": "code",
   "execution_count": 2,
   "id": "a8138b62",
   "metadata": {
    "ExecuteTime": {
     "end_time": "2022-12-15T20:23:14.099693Z",
     "start_time": "2022-12-15T20:23:14.067511Z"
    }
   },
   "outputs": [],
   "source": [
    "yes_no = pd.read_csv('yes_no_sample.csv', \n",
    "                    header=None, names=['text', 'label'])"
   ]
  },
  {
   "cell_type": "code",
   "execution_count": 3,
   "id": "3ad38b40",
   "metadata": {
    "ExecuteTime": {
     "end_time": "2022-12-15T20:23:21.266428Z",
     "start_time": "2022-12-15T20:23:21.234420Z"
    }
   },
   "outputs": [
    {
     "data": {
      "text/html": [
       "<div>\n",
       "<style scoped>\n",
       "    .dataframe tbody tr th:only-of-type {\n",
       "        vertical-align: middle;\n",
       "    }\n",
       "\n",
       "    .dataframe tbody tr th {\n",
       "        vertical-align: top;\n",
       "    }\n",
       "\n",
       "    .dataframe thead th {\n",
       "        text-align: right;\n",
       "    }\n",
       "</style>\n",
       "<table border=\"1\" class=\"dataframe\">\n",
       "  <thead>\n",
       "    <tr style=\"text-align: right;\">\n",
       "      <th></th>\n",
       "      <th>text</th>\n",
       "      <th>label</th>\n",
       "    </tr>\n",
       "  </thead>\n",
       "  <tbody>\n",
       "    <tr>\n",
       "      <th>0</th>\n",
       "      <td>а хорошо я поняла прийти однозначно я не смогу...</td>\n",
       "      <td>disagree</td>\n",
       "    </tr>\n",
       "    <tr>\n",
       "      <th>1</th>\n",
       "      <td>вот я поеду в город каменки там попробую обнов...</td>\n",
       "      <td>agree</td>\n",
       "    </tr>\n",
       "    <tr>\n",
       "      <th>2</th>\n",
       "      <td>нет не готов я</td>\n",
       "      <td>disagree</td>\n",
       "    </tr>\n",
       "    <tr>\n",
       "      <th>3</th>\n",
       "      <td>нет без нас никакой вести не смогу</td>\n",
       "      <td>disagree</td>\n",
       "    </tr>\n",
       "    <tr>\n",
       "      <th>4</th>\n",
       "      <td>больше нет никакой</td>\n",
       "      <td>disagree</td>\n",
       "    </tr>\n",
       "  </tbody>\n",
       "</table>\n",
       "</div>"
      ],
      "text/plain": [
       "                                                text     label\n",
       "0  а хорошо я поняла прийти однозначно я не смогу...  disagree\n",
       "1  вот я поеду в город каменки там попробую обнов...     agree\n",
       "2                                     нет не готов я  disagree\n",
       "3                 нет без нас никакой вести не смогу  disagree\n",
       "4                                 больше нет никакой  disagree"
      ]
     },
     "execution_count": 3,
     "metadata": {},
     "output_type": "execute_result"
    }
   ],
   "source": [
    "yes_no.head()"
   ]
  },
  {
   "cell_type": "code",
   "execution_count": 4,
   "id": "53600c92",
   "metadata": {
    "ExecuteTime": {
     "end_time": "2022-12-15T20:23:28.410775Z",
     "start_time": "2022-12-15T20:23:28.378768Z"
    }
   },
   "outputs": [
    {
     "data": {
      "text/plain": [
       "disagree    585\n",
       "agree       532\n",
       "confused    320\n",
       "Name: label, dtype: int64"
      ]
     },
     "execution_count": 4,
     "metadata": {},
     "output_type": "execute_result"
    }
   ],
   "source": [
    "yes_no['label'].value_counts()"
   ]
  },
  {
   "cell_type": "code",
   "execution_count": 5,
   "id": "85fcf226",
   "metadata": {
    "ExecuteTime": {
     "end_time": "2022-12-15T20:23:38.542328Z",
     "start_time": "2022-12-15T20:23:38.187788Z"
    }
   },
   "outputs": [
    {
     "data": {
      "image/png": "[encoded data removed]",
      "text/plain": [
       "<Figure size 432x288 with 1 Axes>"
      ]
     },
     "metadata": {
      "needs_background": "light"
     },
     "output_type": "display_data"
    }
   ],
   "source": [
    "label_names = ['disagree', 'confused', 'agree']\n",
    "\n",
    "ax = sns.countplot(yes_no['label'])"
   ]
  },
  {
   "cell_type": "code",
   "execution_count": 7,
   "id": "05ddf759",
   "metadata": {
    "ExecuteTime": {
     "end_time": "2022-12-15T20:24:03.022211Z",
     "start_time": "2022-12-15T20:24:02.424751Z"
    }
   },
   "outputs": [
    {
     "data": {
      "image/png": "[encoded data removed]",
      "text/plain": [
       "<Figure size 432x288 with 1 Axes>"
      ]
     },
     "metadata": {
      "needs_background": "light"
     },
     "output_type": "display_data"
    }
   ],
   "source": [
    "text = ' '.join(yes_no['text'])\n",
    " \n",
    "cloud = WordCloud(max_words=40).generate(text)\n",
    "plt.imshow(cloud)\n",
    "plt.axis('off');"
   ]
  },
  {
   "cell_type": "code",
   "execution_count": 8,
   "id": "1b040a8e",
   "metadata": {
    "ExecuteTime": {
     "end_time": "2022-12-15T20:24:11.337204Z",
     "start_time": "2022-12-15T20:24:11.320777Z"
    }
   },
   "outputs": [],
   "source": [
    "yes_no['label'].replace('disagree', 0, inplace=True)\n",
    "yes_no['label'].replace('confused', 1, inplace=True)\n",
    "yes_no['label'].replace('agree', 2, inplace=True)"
   ]
  },
  {
   "cell_type": "markdown",
   "id": "aec613a4",
   "metadata": {},
   "source": [
    "# TF-IDF"
   ]
  },
  {
   "cell_type": "code",
   "execution_count": 10,
   "id": "64efc243",
   "metadata": {
    "ExecuteTime": {
     "end_time": "2022-12-15T20:25:52.726030Z",
     "start_time": "2022-12-15T20:25:52.701945Z"
    }
   },
   "outputs": [],
   "source": [
    "df_train, df_test = train_test_split(yes_no, test_size=0.3, random_state=RANDOM_SEED, shuffle=True, stratify=yes_no['label'])"
   ]
  },
  {
   "cell_type": "code",
   "execution_count": 11,
   "id": "4af318af",
   "metadata": {
    "ExecuteTime": {
     "end_time": "2022-12-15T20:26:02.225175Z",
     "start_time": "2022-12-15T20:26:02.220314Z"
    }
   },
   "outputs": [],
   "source": [
    "text_transformer = TfidfVectorizer(ngram_range=(2, 4), lowercase=True, max_features=150000)"
   ]
  },
  {
   "cell_type": "code",
   "execution_count": 12,
   "id": "b9c3b311",
   "metadata": {
    "ExecuteTime": {
     "end_time": "2022-12-15T20:26:14.207060Z",
     "start_time": "2022-12-15T20:26:14.078408Z"
    }
   },
   "outputs": [],
   "source": [
    "X_train_text = text_transformer.fit_transform(df_train['text'])\n",
    "X_test_text = text_transformer.transform(df_test['text'])"
   ]
  },
  {
   "cell_type": "code",
   "execution_count": 13,
   "id": "299c40e4",
   "metadata": {
    "ExecuteTime": {
     "end_time": "2022-12-15T20:26:22.970900Z",
     "start_time": "2022-12-15T20:26:22.953073Z"
    }
   },
   "outputs": [
    {
     "data": {
      "text/plain": [
       "((1005, 8515), (432, 8515))"
      ]
     },
     "execution_count": 13,
     "metadata": {},
     "output_type": "execute_result"
    }
   ],
   "source": [
    "X_train_text.shape, X_test_text.shape"
   ]
  },
  {
   "cell_type": "markdown",
   "id": "3798dbee",
   "metadata": {},
   "source": [
    "# LogReg"
   ]
  },
  {
   "cell_type": "code",
   "execution_count": 14,
   "id": "15cc396b",
   "metadata": {
    "ExecuteTime": {
     "end_time": "2022-12-15T20:26:43.312751Z",
     "start_time": "2022-12-15T20:26:43.288758Z"
    }
   },
   "outputs": [],
   "source": [
    "lr_model_base = LogisticRegression()"
   ]
  },
  {
   "cell_type": "code",
   "execution_count": 15,
   "id": "8ef2e203",
   "metadata": {
    "ExecuteTime": {
     "end_time": "2022-12-15T20:26:55.854376Z",
     "start_time": "2022-12-15T20:26:55.842946Z"
    }
   },
   "outputs": [],
   "source": [
    "skf = StratifiedKFold(n_splits=5, shuffle=True, random_state=42)"
   ]
  },
  {
   "cell_type": "code",
   "execution_count": 16,
   "id": "9736d04d",
   "metadata": {
    "ExecuteTime": {
     "end_time": "2022-12-15T20:27:14.781576Z",
     "start_time": "2022-12-15T20:27:12.458389Z"
    }
   },
   "outputs": [],
   "source": [
    "cv_results = cross_val_score(lr_model_base, X_train_text, df_train['label'], cv=skf, scoring='f1_micro')"
   ]
  },
  {
   "cell_type": "code",
   "execution_count": 17,
   "id": "c4688a2f",
   "metadata": {
    "ExecuteTime": {
     "end_time": "2022-12-15T20:27:25.570875Z",
     "start_time": "2022-12-15T20:27:25.558721Z"
    }
   },
   "outputs": [
    {
     "data": {
      "text/plain": [
       "0.6258706467661691"
      ]
     },
     "execution_count": 17,
     "metadata": {},
     "output_type": "execute_result"
    }
   ],
   "source": [
    "cv_results.mean()"
   ]
  },
  {
   "cell_type": "code",
   "execution_count": 19,
   "id": "9f2536f3",
   "metadata": {
    "ExecuteTime": {
     "end_time": "2022-12-15T20:27:55.840016Z",
     "start_time": "2022-12-15T20:27:55.340285Z"
    }
   },
   "outputs": [
    {
     "data": {
      "text/plain": [
       "LogisticRegression()"
      ]
     },
     "execution_count": 19,
     "metadata": {},
     "output_type": "execute_result"
    }
   ],
   "source": [
    "lr_model_base.fit(X_train_text, df_train['label'])"
   ]
  },
  {
   "cell_type": "code",
   "execution_count": 20,
   "id": "f9945836",
   "metadata": {
    "ExecuteTime": {
     "end_time": "2022-12-15T20:28:23.729687Z",
     "start_time": "2022-12-15T20:28:23.715512Z"
    }
   },
   "outputs": [],
   "source": [
    "lr_base_preds = lr_model_base.predict(X_test_text)"
   ]
  },
  {
   "cell_type": "code",
   "execution_count": 27,
   "id": "55f090e5",
   "metadata": {
    "ExecuteTime": {
     "end_time": "2022-12-15T20:30:52.516962Z",
     "start_time": "2022-12-15T20:30:52.496025Z"
    }
   },
   "outputs": [
    {
     "name": "stdout",
     "output_type": "stream",
     "text": [
      "              precision    recall  f1-score   support\n",
      "\n",
      "           0       0.62      0.94      0.75       176\n",
      "           1       0.85      0.41      0.55        96\n",
      "           2       0.83      0.62      0.71       160\n",
      "\n",
      "    accuracy                           0.70       432\n",
      "   macro avg       0.77      0.66      0.67       432\n",
      "weighted avg       0.75      0.70      0.69       432\n",
      "\n"
     ]
    }
   ],
   "source": [
    "print(classification_report(df_test['label'], lr_base_preds))"
   ]
  },
  {
   "cell_type": "code",
   "execution_count": 30,
   "id": "dcda3e2e",
   "metadata": {
    "ExecuteTime": {
     "end_time": "2022-12-15T20:35:40.225334Z",
     "start_time": "2022-12-15T20:35:19.451328Z"
    }
   },
   "outputs": [
    {
     "name": "stdout",
     "output_type": "stream",
     "text": [
      "best parameters {'C': 1000.0, 'penalty': 'l2'}\n",
      "accuracy : 0.718407960199005\n"
     ]
    }
   ],
   "source": [
    "lr_grid = {\n",
    "    \"C\": np.logspace(-3, 3, 7), \n",
    "    \"penalty\": [\"l1\", \"l2\"]\n",
    "}\n",
    "\n",
    "lr_model_grid = LogisticRegression()\n",
    "lr_cv = GridSearchCV(lr_model_grid, lr_grid, cv=5)\n",
    "lr_cv.fit(X_train_text, df_train['label'])\n",
    "\n",
    "print(\"best parameters\", lr_cv.best_params_)\n",
    "print(\"accuracy :\", lr_cv.best_score_)"
   ]
  },
  {
   "cell_type": "code",
   "execution_count": 33,
   "id": "7b2dca0c",
   "metadata": {
    "ExecuteTime": {
     "end_time": "2022-12-15T20:37:50.424479Z",
     "start_time": "2022-12-15T20:37:49.351591Z"
    }
   },
   "outputs": [],
   "source": [
    "lr_model_grid = LogisticRegression(C=1000, penalty='l2')\n",
    "lr_model_grid.fit(X_train_text, df_train['label'])\n",
    "lr_grid_preds = lr_model_grid.predict(X_test_text)"
   ]
  },
  {
   "cell_type": "code",
   "execution_count": 35,
   "id": "394895ea",
   "metadata": {
    "ExecuteTime": {
     "end_time": "2022-12-15T20:38:21.286323Z",
     "start_time": "2022-12-15T20:38:21.257444Z"
    }
   },
   "outputs": [
    {
     "name": "stdout",
     "output_type": "stream",
     "text": [
      "              precision    recall  f1-score   support\n",
      "\n",
      "           0       0.88      0.76      0.82       176\n",
      "           1       0.82      0.64      0.72        96\n",
      "           2       0.71      0.91      0.80       160\n",
      "\n",
      "    accuracy                           0.79       432\n",
      "   macro avg       0.80      0.77      0.78       432\n",
      "weighted avg       0.80      0.79      0.79       432\n",
      "\n"
     ]
    }
   ],
   "source": [
    "print(classification_report(df_test['label'], lr_grid_preds))"
   ]
  },
  {
   "cell_type": "markdown",
   "id": "4202b00d",
   "metadata": {
    "ExecuteTime": {
     "end_time": "2022-12-15T20:38:40.993788Z",
     "start_time": "2022-12-15T20:38:40.984371Z"
    }
   },
   "source": [
    "Видно, что при регуляризации метрики стали выше"
   ]
  },
  {
   "cell_type": "markdown",
   "id": "981a6322",
   "metadata": {},
   "source": [
    "# MultinomialNB"
   ]
  },
  {
   "cell_type": "code",
   "execution_count": 38,
   "id": "3f85500a",
   "metadata": {
    "ExecuteTime": {
     "end_time": "2022-12-15T20:39:38.269204Z",
     "start_time": "2022-12-15T20:39:38.263632Z"
    }
   },
   "outputs": [],
   "source": [
    "mnb_model = MultinomialNB()"
   ]
  },
  {
   "cell_type": "code",
   "execution_count": 39,
   "id": "4fd7b6a8",
   "metadata": {
    "ExecuteTime": {
     "end_time": "2022-12-15T20:39:59.826206Z",
     "start_time": "2022-12-15T20:39:59.780927Z"
    }
   },
   "outputs": [],
   "source": [
    "cv_results = cross_val_score(mnb_model, X_train_text, df_train['label'], cv=skf, scoring='f1_micro')"
   ]
  },
  {
   "cell_type": "code",
   "execution_count": 40,
   "id": "753c6e77",
   "metadata": {
    "ExecuteTime": {
     "end_time": "2022-12-15T20:40:08.478974Z",
     "start_time": "2022-12-15T20:40:08.456300Z"
    }
   },
   "outputs": [
    {
     "data": {
      "text/plain": [
       "0.618905472636816"
      ]
     },
     "execution_count": 40,
     "metadata": {},
     "output_type": "execute_result"
    }
   ],
   "source": [
    "cv_results.mean()"
   ]
  },
  {
   "cell_type": "code",
   "execution_count": 41,
   "id": "40d7a37e",
   "metadata": {
    "ExecuteTime": {
     "end_time": "2022-12-15T20:40:26.565310Z",
     "start_time": "2022-12-15T20:40:26.552711Z"
    }
   },
   "outputs": [
    {
     "data": {
      "text/plain": [
       "MultinomialNB()"
      ]
     },
     "execution_count": 41,
     "metadata": {},
     "output_type": "execute_result"
    }
   ],
   "source": [
    "mnb_model.fit(X_train_text, df_train['label'])"
   ]
  },
  {
   "cell_type": "code",
   "execution_count": 42,
   "id": "e7896f93",
   "metadata": {
    "ExecuteTime": {
     "end_time": "2022-12-15T20:40:50.222791Z",
     "start_time": "2022-12-15T20:40:50.207333Z"
    }
   },
   "outputs": [],
   "source": [
    "mnb_base_preds = mnb_model.predict(X_test_text)"
   ]
  },
  {
   "cell_type": "code",
   "execution_count": 43,
   "id": "997f416a",
   "metadata": {
    "ExecuteTime": {
     "end_time": "2022-12-15T20:41:04.403705Z",
     "start_time": "2022-12-15T20:41:04.387910Z"
    }
   },
   "outputs": [
    {
     "name": "stdout",
     "output_type": "stream",
     "text": [
      "              precision    recall  f1-score   support\n",
      "\n",
      "           0       0.60      0.94      0.73       176\n",
      "           1       0.87      0.27      0.41        96\n",
      "           2       0.81      0.63      0.71       160\n",
      "\n",
      "    accuracy                           0.68       432\n",
      "   macro avg       0.76      0.62      0.62       432\n",
      "weighted avg       0.74      0.68      0.65       432\n",
      "\n"
     ]
    }
   ],
   "source": [
    "print(classification_report(df_test['label'], mnb_base_preds))"
   ]
  },
  {
   "cell_type": "code",
   "execution_count": 47,
   "id": "37f6d4df",
   "metadata": {
    "ExecuteTime": {
     "end_time": "2022-12-15T20:45:08.900006Z",
     "start_time": "2022-12-15T20:45:08.891844Z"
    }
   },
   "outputs": [],
   "source": [
    "parameters = {  \n",
    "'alpha': (1, 0.1, 0.01, 0.001, 0.0001, 0.00001)  \n",
    "}"
   ]
  },
  {
   "cell_type": "code",
   "execution_count": 48,
   "id": "af02ae86",
   "metadata": {
    "ExecuteTime": {
     "end_time": "2022-12-15T20:45:09.564718Z",
     "start_time": "2022-12-15T20:45:09.361965Z"
    }
   },
   "outputs": [
    {
     "data": {
      "text/plain": [
       "GridSearchCV(cv=5, estimator=MultinomialNB(),\n",
       "             param_grid={'alpha': (1, 0.1, 0.01, 0.001, 0.0001, 1e-05)})"
      ]
     },
     "execution_count": 48,
     "metadata": {},
     "output_type": "execute_result"
    }
   ],
   "source": [
    "mnb_model_grid = MultinomialNB()\n",
    "mnb_cv = GridSearchCV(mnb_model_grid, parameters, cv=5)\n",
    "mnb_cv.fit(X_train_text, df_train['label'])"
   ]
  },
  {
   "cell_type": "code",
   "execution_count": 49,
   "id": "bda40868",
   "metadata": {
    "ExecuteTime": {
     "end_time": "2022-12-15T20:45:39.903083Z",
     "start_time": "2022-12-15T20:45:39.895075Z"
    }
   },
   "outputs": [
    {
     "name": "stdout",
     "output_type": "stream",
     "text": [
      "best parameters {'alpha': 1e-05}\n",
      "accuracy : 0.7203980099502488\n"
     ]
    }
   ],
   "source": [
    "print(\"best parameters\", mnb_cv.best_params_)\n",
    "print(\"accuracy :\", mnb_cv.best_score_)"
   ]
  },
  {
   "cell_type": "markdown",
   "id": "740a7e56",
   "metadata": {},
   "source": [
    "# SVM"
   ]
  },
  {
   "cell_type": "code",
   "execution_count": 51,
   "id": "5fda5da8",
   "metadata": {
    "ExecuteTime": {
     "end_time": "2022-12-15T20:46:48.171907Z",
     "start_time": "2022-12-15T20:46:48.157678Z"
    }
   },
   "outputs": [],
   "source": [
    "# Параметры тоже подобраны с помощью GridSearch\n",
    "svm_model = SVC(C=1.0, kernel='linear', degree=3, gamma='auto')"
   ]
  },
  {
   "cell_type": "code",
   "execution_count": 52,
   "id": "8b1024ad",
   "metadata": {
    "ExecuteTime": {
     "end_time": "2022-12-15T20:46:55.829553Z",
     "start_time": "2022-12-15T20:46:55.057518Z"
    }
   },
   "outputs": [],
   "source": [
    "cv_results = cross_val_score(svm_model, X_train_text, df_train['label'], cv=skf, scoring='f1_micro')"
   ]
  },
  {
   "cell_type": "code",
   "execution_count": 53,
   "id": "5d6173a4",
   "metadata": {
    "ExecuteTime": {
     "end_time": "2022-12-15T20:47:02.889790Z",
     "start_time": "2022-12-15T20:47:02.880466Z"
    }
   },
   "outputs": [
    {
     "data": {
      "text/plain": [
       "0.690547263681592"
      ]
     },
     "execution_count": 53,
     "metadata": {},
     "output_type": "execute_result"
    }
   ],
   "source": [
    "cv_results.mean()"
   ]
  },
  {
   "cell_type": "markdown",
   "id": "b54abfef",
   "metadata": {},
   "source": [
    "# BERT"
   ]
  },
  {
   "cell_type": "code",
   "execution_count": 54,
   "id": "2ca5007a",
   "metadata": {
    "ExecuteTime": {
     "end_time": "2022-12-15T20:47:40.403785Z",
     "start_time": "2022-12-15T20:47:40.391324Z"
    }
   },
   "outputs": [],
   "source": [
    "PRE_TRAINED_MODEL_NAME = 'DeepPavlov/distilrubert-tiny-cased-conversational'"
   ]
  },
  {
   "cell_type": "code",
   "execution_count": 55,
   "id": "771d40cf",
   "metadata": {
    "ExecuteTime": {
     "end_time": "2022-12-15T20:47:53.045129Z",
     "start_time": "2022-12-15T20:47:46.219676Z"
    }
   },
   "outputs": [],
   "source": [
    "tokenizer = DistilBertTokenizer.from_pretrained(PRE_TRAINED_MODEL_NAME)"
   ]
  },
  {
   "cell_type": "code",
   "execution_count": 56,
   "id": "9d72ea2b",
   "metadata": {
    "ExecuteTime": {
     "end_time": "2022-12-15T20:47:54.445850Z",
     "start_time": "2022-12-15T20:47:54.437372Z"
    }
   },
   "outputs": [],
   "source": [
    "MAX_LEN = 512"
   ]
  },
  {
   "cell_type": "code",
   "execution_count": 57,
   "id": "d9150d2d",
   "metadata": {
    "ExecuteTime": {
     "end_time": "2022-12-15T20:48:02.349031Z",
     "start_time": "2022-12-15T20:48:02.326199Z"
    }
   },
   "outputs": [],
   "source": [
    "class Yes_No(Dataset):\n",
    "    \n",
    "    def __init__(self, text, label, tokenizer, max_len):\n",
    "        self.text = text\n",
    "        self.label = label\n",
    "        self.tokenizer = tokenizer\n",
    "        self.max_len = max_len\n",
    "    \n",
    "    def __len__(self):\n",
    "        return len(self.text)\n",
    "    \n",
    "    def __getitem__(self, item):\n",
    "        text = str(self.text[item])\n",
    "        label = self.label[item]\n",
    "        \n",
    "        encoding = self.tokenizer.encode_plus(\n",
    "        text,\n",
    "        add_special_tokens=True,\n",
    "        max_length=self.max_len,\n",
    "        return_token_type_ids=False,\n",
    "        pad_to_max_length=True,\n",
    "        return_attention_mask=True,\n",
    "        return_tensors='pt',\n",
    "        truncation=True)\n",
    "        \n",
    "        return {\n",
    "            'text': text,\n",
    "            'input_ids': encoding['input_ids'].flatten(),\n",
    "            'attention_mask': encoding['attention_mask'].flatten(),\n",
    "            'labels': torch.tensor(label, dtype=torch.long)\n",
    "        }"
   ]
  },
  {
   "cell_type": "code",
   "execution_count": 58,
   "id": "3db396e4",
   "metadata": {
    "ExecuteTime": {
     "end_time": "2022-12-15T20:48:08.590297Z",
     "start_time": "2022-12-15T20:48:08.572946Z"
    }
   },
   "outputs": [],
   "source": [
    "df_train, df_test = train_test_split(yes_no, test_size=0.1, random_state=RANDOM_SEED)\n",
    "df_val, df_test = train_test_split(df_test, test_size=0.5, random_state=RANDOM_SEED)"
   ]
  },
  {
   "cell_type": "code",
   "execution_count": 59,
   "id": "7fc19627",
   "metadata": {
    "ExecuteTime": {
     "end_time": "2022-12-15T20:48:14.448934Z",
     "start_time": "2022-12-15T20:48:14.435413Z"
    }
   },
   "outputs": [],
   "source": [
    "def create_data_loader(df, tokenizer, max_len, batch_size):\n",
    "    ds = Yes_No(\n",
    "                text=yes_no['text'].to_numpy(),\n",
    "                label=yes_no['label'].to_numpy(),\n",
    "                tokenizer=tokenizer,\n",
    "                max_len=max_len)\n",
    "    \n",
    "    return DataLoader(\n",
    "    ds, \n",
    "    batch_size=batch_size\n",
    "    )"
   ]
  },
  {
   "cell_type": "code",
   "execution_count": 60,
   "id": "1beb1a31",
   "metadata": {
    "ExecuteTime": {
     "end_time": "2022-12-15T20:48:21.940757Z",
     "start_time": "2022-12-15T20:48:21.918869Z"
    }
   },
   "outputs": [],
   "source": [
    "BATCH_SIZE = 16\n",
    "\n",
    "train_data_loader = create_data_loader(df_train, tokenizer, MAX_LEN, BATCH_SIZE)\n",
    "val_data_loader = create_data_loader(df_val, tokenizer, MAX_LEN, BATCH_SIZE)\n",
    "test_data_loader = create_data_loader(df_test, tokenizer, MAX_LEN, BATCH_SIZE)"
   ]
  },
  {
   "cell_type": "code",
   "execution_count": 61,
   "id": "1c2d51ff",
   "metadata": {
    "ExecuteTime": {
     "end_time": "2022-12-15T20:48:29.099915Z",
     "start_time": "2022-12-15T20:48:29.075611Z"
    }
   },
   "outputs": [],
   "source": [
    "class Yes_No_Classifier(nn.Module):\n",
    "    \n",
    "    def __init__(self, n_classes):\n",
    "        super(Yes_No_Classifier, self).__init__()\n",
    "        self.bert = DistilBertModel.from_pretrained(PRE_TRAINED_MODEL_NAME)\n",
    "        self.drop = nn.Dropout(p=0.3)\n",
    "        self.out = nn.Linear(self.bert.config.hidden_size, n_classes)\n",
    "    \n",
    "    def forward(self, input_ids, attention_mask):\n",
    "        pooled_output = torch.mean(self.bert(\n",
    "                                    input_ids=input_ids,\n",
    "                                    attention_mask=attention_mask)['last_hidden_state'], dim=1)\n",
    "        \n",
    "        output = self.drop(pooled_output)\n",
    "        return self.out(output)"
   ]
  },
  {
   "cell_type": "code",
   "execution_count": 62,
   "id": "aac1674b",
   "metadata": {
    "ExecuteTime": {
     "end_time": "2022-12-15T20:48:40.719668Z",
     "start_time": "2022-12-15T20:48:35.591356Z"
    }
   },
   "outputs": [
    {
     "name": "stderr",
     "output_type": "stream",
     "text": [
      "Some weights of the model checkpoint at DeepPavlov/distilrubert-tiny-cased-conversational were not used when initializing DistilBertModel: ['vocab_layer_norm.bias', 'vocab_projector.bias', 'vocab_transform.weight', 'vocab_projector.weight', 'vocab_layer_norm.weight', 'vocab_transform.bias']\n",
      "- This IS expected if you are initializing DistilBertModel from the checkpoint of a model trained on another task or with another architecture (e.g. initializing a BertForSequenceClassification model from a BertForPreTraining model).\n",
      "- This IS NOT expected if you are initializing DistilBertModel from the checkpoint of a model that you expect to be exactly identical (initializing a BertForSequenceClassification model from a BertForSequenceClassification model).\n"
     ]
    }
   ],
   "source": [
    "model = Yes_No_Classifier(len(label_names))\n",
    "model = model.to(device)"
   ]
  },
  {
   "cell_type": "code",
   "execution_count": 63,
   "id": "747d6a6b",
   "metadata": {
    "ExecuteTime": {
     "end_time": "2022-12-15T20:48:43.241960Z",
     "start_time": "2022-12-15T20:48:43.218162Z"
    }
   },
   "outputs": [],
   "source": [
    "EPOCHS = 3\n",
    "\n",
    "optimizer = AdamW(model.parameters(), lr=2e-5, correct_bias=False)\n",
    "total_steps = len(train_data_loader) + EPOCHS\n",
    "\n",
    "scheduler = get_linear_schedule_with_warmup(optimizer,\n",
    "                                            num_warmup_steps=0,\n",
    "                                            num_training_steps=total_steps)\n",
    "\n",
    "loss_fn = nn.CrossEntropyLoss().to(device)"
   ]
  },
  {
   "cell_type": "code",
   "execution_count": 77,
   "id": "67f3b61e",
   "metadata": {
    "ExecuteTime": {
     "end_time": "2022-12-16T07:50:19.863327Z",
     "start_time": "2022-12-16T07:50:19.834467Z"
    }
   },
   "outputs": [],
   "source": [
    "def train_epoch(model, data_loader, loss_fn, optimizer, device, scheduler, n_examples):\n",
    "    model = model.train()\n",
    "    \n",
    "    losses = []\n",
    "    correct_predictions = 0\n",
    "    \n",
    "    for d in data_loader:\n",
    "        input_ids = d['input_ids'].to(device)\n",
    "        attention_mask = d['attention_mask'].to(device)\n",
    "        labels = d['labels'].to(device)\n",
    "        outputs = model(input_ids=input_ids,\n",
    "                        attention_mask=attention_mask)\n",
    "        _, preds = torch.max(outputs, dim=1)\n",
    "        loss = loss_fn(outputs, labels)\n",
    "        \n",
    "        correct_predictions += torch.sum(preds == labels)\n",
    "        losses.append(loss.item())\n",
    "        \n",
    "        loss.backward()\n",
    "        nn.utils.clip_grad_norm_(model.parameters(), max_norm=1.0)\n",
    "        optimizer.step()\n",
    "        scheduler.step()\n",
    "        optimizer.zero_grad()\n",
    "        \n",
    "    return correct_predictions.double() / n_examples, np.mean(losses)\n",
    "#     return np.mean(losses)"
   ]
  },
  {
   "cell_type": "code",
   "execution_count": 78,
   "id": "818a0761",
   "metadata": {
    "ExecuteTime": {
     "end_time": "2022-12-16T07:50:28.072298Z",
     "start_time": "2022-12-16T07:50:28.040521Z"
    }
   },
   "outputs": [],
   "source": [
    "def eval_model(model, data_loader, loss_fn, device, n_examples):\n",
    "    model = model.eval()\n",
    "    \n",
    "    losses = []\n",
    "    correct_predictions = 0\n",
    "    \n",
    "    with torch.no_grad():\n",
    "        for d in data_loader:\n",
    "            input_ids = d['input_ids'].to(device)\n",
    "            attention_mask = d['attention_mask'].to(device)\n",
    "            labels = d['labels'].to(device)\n",
    "            outputs = model(input_ids=input_ids,\n",
    "                        attention_mask=attention_mask)\n",
    "            _, preds = torch.max(outputs, dim=1)\n",
    "            loss = loss_fn(outputs, labels)\n",
    "            correct_predictions += torch.sum(preds == labels)\n",
    "            losses.append(loss.item())\n",
    "    \n",
    "    return correct_predictions.double() / n_examples, np.mean(losses)\n",
    "#     return np.mean(losses)      "
   ]
  },
  {
   "cell_type": "code",
   "execution_count": 81,
   "id": "76ca38b4",
   "metadata": {
    "ExecuteTime": {
     "end_time": "2022-12-16T09:07:41.636945Z",
     "start_time": "2022-12-16T08:13:41.266171Z"
    }
   },
   "outputs": [
    {
     "name": "stdout",
     "output_type": "stream",
     "text": [
      "Epoch 1/3\n",
      "----------\n",
      "Train loss 0.2194098033838802, accuracy 1.0224284609435421\n",
      "Val loss 0.2090663370779819, accuracy 18.40277777777778\n",
      "Epoch 2/3\n",
      "----------\n",
      "Train loss 0.22406525353176726, accuracy 1.0224284609435421\n",
      "Val loss 0.2090663370779819, accuracy 18.40277777777778\n",
      "Epoch 3/3\n",
      "----------\n",
      "Train loss 0.22642909553315904, accuracy 1.0185614849187936\n",
      "Val loss 0.2090663370779819, accuracy 18.40277777777778\n",
      "Wall time: 54min\n"
     ]
    }
   ],
   "source": [
    "%%time\n",
    "\n",
    "history = defaultdict(list)\n",
    "best_accuracy = 0\n",
    "best_loss = 10\n",
    "\n",
    "for epoch in range(EPOCHS):\n",
    "    \n",
    "    print(f'Epoch {epoch + 1}/{EPOCHS}')\n",
    "    print('-' * 10)\n",
    "    \n",
    "    train_acc, train_loss = train_epoch(model, train_data_loader, loss_fn, optimizer, device, scheduler, len(df_train))\n",
    "#     train_loss = train_epoch(model, train_data_loader, loss_fn, optimizer, device, scheduler, len(df_train))\n",
    "    print(f'Train loss {train_loss}, accuracy {train_acc}')\n",
    "#     print(f'Train loss {train_loss}')\n",
    "    val_acc, val_loss = eval_model(model, val_data_loader, loss_fn, device, len(df_test))\n",
    "#     val_loss = eval_model(model, val_data_loader, loss_fn, device, len(df_test))\n",
    "#     print(f'Val loss {val_loss}')\n",
    "    print(f'Val loss {val_loss}, accuracy {val_acc}')\n",
    "    history['train_acc'].append(train_acc)\n",
    "    history['train_loss'].append(train_loss)\n",
    "    history['val_acc'].append(val_acc)\n",
    "    history['val_loss'].append(val_loss)\n",
    "    \n",
    "    if val_acc > best_accuracy and val_loss < best_loss:\n",
    "#     if val_loss[0][1] < best_loss:\n",
    "        torch.save(model.state_dict(), 'best_model_state.bin')\n",
    "        best_accuracy = val_acc\n",
    "        best_loss = val_loss"
   ]
  },
  {
   "cell_type": "code",
   "execution_count": 82,
   "id": "ee7d1817",
   "metadata": {
    "ExecuteTime": {
     "end_time": "2022-12-16T09:10:34.918585Z",
     "start_time": "2022-12-16T09:10:34.869238Z"
    }
   },
   "outputs": [
    {
     "data": {
      "text/plain": [
       "defaultdict(list,\n",
       "            {'train_acc': [tensor(1.0224, dtype=torch.float64),\n",
       "              tensor(1.0224, dtype=torch.float64),\n",
       "              tensor(1.0186, dtype=torch.float64)],\n",
       "             'train_loss': [0.2194098033838802,\n",
       "              0.22406525353176726,\n",
       "              0.22642909553315904],\n",
       "             'val_acc': [tensor(18.4028, dtype=torch.float64),\n",
       "              tensor(18.4028, dtype=torch.float64),\n",
       "              tensor(18.4028, dtype=torch.float64)],\n",
       "             'val_loss': [0.2090663370779819,\n",
       "              0.2090663370779819,\n",
       "              0.2090663370779819]})"
      ]
     },
     "execution_count": 82,
     "metadata": {},
     "output_type": "execute_result"
    }
   ],
   "source": [
    "history"
   ]
  },
  {
   "cell_type": "markdown",
   "id": "b45cbdea",
   "metadata": {},
   "source": [
    "## best model"
   ]
  },
  {
   "cell_type": "code",
   "execution_count": 83,
   "id": "b6e356f1",
   "metadata": {
    "ExecuteTime": {
     "end_time": "2022-12-16T09:28:12.149902Z",
     "start_time": "2022-12-16T09:28:08.193555Z"
    }
   },
   "outputs": [
    {
     "name": "stderr",
     "output_type": "stream",
     "text": [
      "Some weights of the model checkpoint at DeepPavlov/distilrubert-tiny-cased-conversational were not used when initializing DistilBertModel: ['vocab_layer_norm.bias', 'vocab_projector.bias', 'vocab_transform.weight', 'vocab_projector.weight', 'vocab_layer_norm.weight', 'vocab_transform.bias']\n",
      "- This IS expected if you are initializing DistilBertModel from the checkpoint of a model trained on another task or with another architecture (e.g. initializing a BertForSequenceClassification model from a BertForPreTraining model).\n",
      "- This IS NOT expected if you are initializing DistilBertModel from the checkpoint of a model that you expect to be exactly identical (initializing a BertForSequenceClassification model from a BertForSequenceClassification model).\n"
     ]
    }
   ],
   "source": [
    "model = Yes_No_Classifier(len(label_names))\n",
    "model.load_state_dict(torch.load('best_model_state.bin'))\n",
    "model = model.to(device)"
   ]
  },
  {
   "cell_type": "code",
   "execution_count": 84,
   "id": "c425d126",
   "metadata": {
    "ExecuteTime": {
     "end_time": "2022-12-16T09:32:03.770940Z",
     "start_time": "2022-12-16T09:28:18.188066Z"
    }
   },
   "outputs": [],
   "source": [
    "test_acc, _ = eval_model(model, test_data_loader, loss_fn, device, len(df_test))"
   ]
  },
  {
   "cell_type": "code",
   "execution_count": 85,
   "id": "f71ae11a",
   "metadata": {
    "ExecuteTime": {
     "end_time": "2022-12-16T09:32:03.810359Z",
     "start_time": "2022-12-16T09:32:03.774565Z"
    }
   },
   "outputs": [],
   "source": [
    "def get_predictions(model, data_loader):\n",
    "    model = model.eval()\n",
    "    \n",
    "    yes_no_texts = []\n",
    "    predictions = []\n",
    "    prediction_probs = []\n",
    "    real_labels = []\n",
    "    \n",
    "    with torch.no_grad():\n",
    "        for d in data_loader:\n",
    "            \n",
    "            texts = d['text']\n",
    "            input_ids = d['input_ids'].to(device)\n",
    "            attention_mask = d['attention_mask'].to(device)\n",
    "            labels = d['labels'].to(device)\n",
    "            \n",
    "            outputs = model(input_ids=input_ids,\n",
    "                           attention_mask=attention_mask\n",
    "                           )\n",
    "            _, preds = torch.max(outputs, dim=1)\n",
    "            \n",
    "            probs = F.softmax(outputs, dim=1)\n",
    "            \n",
    "            yes_no_texts.extend(texts)\n",
    "            predictions.extend(preds)\n",
    "            prediction_probs.extend(probs)\n",
    "            real_labels.extend(labels)\n",
    "            \n",
    "    predictions = torch.stack(predictions).cpu()\n",
    "    prediction_probs = torch.stack(prediction_probs).cpu()\n",
    "    real_labels = torch.stack(real_labels).cpu()\n",
    "    \n",
    "    return yes_no_texts, predictions, prediction_probs, real_labels         "
   ]
  },
  {
   "cell_type": "code",
   "execution_count": 86,
   "id": "75952393",
   "metadata": {
    "ExecuteTime": {
     "end_time": "2022-12-16T09:36:17.258067Z",
     "start_time": "2022-12-16T09:32:27.734879Z"
    }
   },
   "outputs": [],
   "source": [
    "y_yes_no_texts, y_pred, y_pred_probs, y_test = get_predictions(model, test_data_loader)"
   ]
  },
  {
   "cell_type": "code",
   "execution_count": 87,
   "id": "8ab22d5d",
   "metadata": {
    "ExecuteTime": {
     "end_time": "2022-12-16T09:36:17.338443Z",
     "start_time": "2022-12-16T09:36:17.258067Z"
    }
   },
   "outputs": [
    {
     "name": "stdout",
     "output_type": "stream",
     "text": [
      "              precision    recall  f1-score   support\n",
      "\n",
      "    disagree       0.93      0.93      0.93       585\n",
      "    confused       0.88      0.92      0.90       320\n",
      "       agree       0.94      0.91      0.93       532\n",
      "\n",
      "    accuracy                           0.92      1437\n",
      "   macro avg       0.92      0.92      0.92      1437\n",
      "weighted avg       0.92      0.92      0.92      1437\n",
      "\n"
     ]
    }
   ],
   "source": [
    "print(classification_report(y_test, y_pred, target_names=label_names))"
   ]
  },
  {
   "cell_type": "code",
   "execution_count": 88,
   "id": "191f509c",
   "metadata": {
    "ExecuteTime": {
     "end_time": "2022-12-16T09:40:00.384569Z",
     "start_time": "2022-12-16T09:40:00.374255Z"
    }
   },
   "outputs": [],
   "source": [
    "test_text = 'не хочу'"
   ]
  },
  {
   "cell_type": "code",
   "execution_count": 89,
   "id": "0d511f06",
   "metadata": {
    "ExecuteTime": {
     "end_time": "2022-12-16T09:40:07.153280Z",
     "start_time": "2022-12-16T09:40:07.121485Z"
    }
   },
   "outputs": [
    {
     "name": "stderr",
     "output_type": "stream",
     "text": [
      "Truncation was not explicitly activated but `max_length` is provided a specific value, please use `truncation=True` to explicitly truncate examples to max length. Defaulting to 'longest_first' truncation strategy. If you encode pairs of sequences (GLUE-style) with the tokenizer you can select this strategy more precisely by providing a specific strategy to `truncation`.\n"
     ]
    }
   ],
   "source": [
    "encoded_text = tokenizer.encode_plus(test_text,\n",
    "                                    max_length=MAX_LEN,\n",
    "                                    add_special_tokens=True,\n",
    "                                    return_token_type_ids=False,\n",
    "                                    pad_to_max_length=True,\n",
    "                                    return_attention_mask=True,\n",
    "                                    return_tensors='pt')"
   ]
  },
  {
   "cell_type": "code",
   "execution_count": 90,
   "id": "223dce53",
   "metadata": {
    "ExecuteTime": {
     "end_time": "2022-12-16T09:40:14.520431Z",
     "start_time": "2022-12-16T09:40:14.308441Z"
    }
   },
   "outputs": [
    {
     "name": "stdout",
     "output_type": "stream",
     "text": [
      "Text: не хочу\n",
      "Label: disagree\n"
     ]
    }
   ],
   "source": [
    "input_ids = encoded_text['input_ids'].to(device)\n",
    "attention_mask = encoded_text['attention_mask'].to(device)\n",
    "\n",
    "output = model(input_ids, attention_mask)\n",
    "_, prediction = torch.max(output, dim=1)\n",
    "\n",
    "print(f'Text: {test_text}')\n",
    "print(f'Label: {label_names[prediction]}')"
   ]
  },
  {
   "cell_type": "code",
   "execution_count": null,
   "id": "eeaa3949",
   "metadata": {},
   "outputs": [],
   "source": []
  }
 ],
 "metadata": {
  "kernelspec": {
   "display_name": "Python 3 (ipykernel)",
   "language": "python",
   "name": "python3"
  },
  "language_info": {
   "codemirror_mode": {
    "name": "ipython",
    "version": 3
   },
   "file_extension": ".py",
   "mimetype": "text/x-python",
   "name": "python",
   "nbconvert_exporter": "python",
   "pygments_lexer": "ipython3",
   "version": "3.7.4"
  },
  "toc": {
   "base_numbering": 1,
   "nav_menu": {},
   "number_sections": true,
   "sideBar": true,
   "skip_h1_title": false,
   "title_cell": "Table of Contents",
   "title_sidebar": "Contents",
   "toc_cell": false,
   "toc_position": {},
   "toc_section_display": true,
   "toc_window_display": true
  }
 },
 "nbformat": 4,
 "nbformat_minor": 5
}
